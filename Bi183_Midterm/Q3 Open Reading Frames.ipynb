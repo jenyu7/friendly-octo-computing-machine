{
 "cells": [
  {
   "cell_type": "code",
   "execution_count": 53,
   "metadata": {},
   "outputs": [
    {
     "name": "stdout",
     "output_type": "stream",
     "text": [
      "atgaaacccaaacccaaacccaaaccctag\n"
     ]
    }
   ],
   "source": [
    "# returns list with indexes of start and stop codons\n",
    "def find_start_stop_codons(seq):\n",
    "    seq = seq.lower()\n",
    "    starts = [\"atg\"]\n",
    "    stops = [\"taa\", \"tag\", \"tga\"]\n",
    "    codons = []\n",
    "    i = 0\n",
    "    while i < len(seq) - 2:\n",
    "        if seq[i:i+3] in stops:\n",
    "            # -1 identifier for stop codons\n",
    "            codons.append([-1, i+3])\n",
    "        elif seq[i:i+3] in starts:\n",
    "            # +1 identifier for start codons\n",
    "            codons.append([1, i])\n",
    "        i += 3\n",
    "    return codons\n",
    "\n",
    "# returns the start/stop codons for the three frames\n",
    "def find_frames(seq):\n",
    "    # three frames: original, shifted 1, shifted 2\n",
    "    frame1 = find_start_stop_codons(seq)\n",
    "    frame2 = find_start_stop_codons(seq[1:])\n",
    "    frame3 = find_start_stop_codons(seq[2:])\n",
    "    return (frame1, frame2, frame3)\n",
    "        \n",
    "# find the longest subsequence that is an ORF\n",
    "def find_longest_orf(seq):\n",
    "    frames = find_frames(seq)\n",
    "    min_start = None\n",
    "    max_end = None\n",
    "    curr_start = None\n",
    "    max_seq = seq\n",
    "    # there are only 3 frames maximum, so this is not n^2 loop\n",
    "    for f in frames: \n",
    "        # goes through start and stop codons\n",
    "        for codon in f: \n",
    "            # start codon\n",
    "            if codon[0] == 1:\n",
    "                # first start codon \n",
    "                if min_start == None:\n",
    "                    min_start = codon[1]\n",
    "                    curr_start = codon[1]\n",
    "                # sequence was just reset\n",
    "                elif curr_start == None:\n",
    "                    curr_start = codon[1] \n",
    "            # end codon\n",
    "            # a sequence cannot have more than one stop codon inside of it\n",
    "            elif codon[0] == -1:\n",
    "                # accounts for the first stop codon encountered\n",
    "                if min_start != None and max_end == None: \n",
    "                    max_end = codon[1]\n",
    "                    # reset the start codon to None\n",
    "                    curr_start = None\n",
    "                # if there is a start codon being kept track of\n",
    "                elif curr_start != None: \n",
    "                    # check if the current orf is longer than the stored maximum\n",
    "                    if codon[1] - curr_start > max_end - min_start:\n",
    "                        max_end = codon[1]\n",
    "                        min_start = curr_start\n",
    "                        # determines which frame the sequence was in \n",
    "                        max_seq = seq[frames.index(f):]\n",
    "                        # reset the start codon to None\n",
    "                        curr_start = None\n",
    "                    else:\n",
    "                        # reset the start codon to None\n",
    "                        curr_start = None\n",
    "    # outputs the longest subsequence\n",
    "    return max_seq[min_start:max_end]\n",
    "        \n",
    "seq = \"caatgaaacccaaatagcccaaaatgaaacccaaacccaaacccaaaccctagaaacccatgaaaccctga\"\n",
    "print(find_longest_orf(seq))"
   ]
  }
 ],
 "metadata": {
  "kernelspec": {
   "display_name": "Python 3",
   "language": "python",
   "name": "python3"
  },
  "language_info": {
   "codemirror_mode": {
    "name": "ipython",
    "version": 3
   },
   "file_extension": ".py",
   "mimetype": "text/x-python",
   "name": "python",
   "nbconvert_exporter": "python",
   "pygments_lexer": "ipython3",
   "version": "3.7.4"
  }
 },
 "nbformat": 4,
 "nbformat_minor": 2
}
