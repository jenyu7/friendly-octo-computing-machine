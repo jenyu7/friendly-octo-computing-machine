{
 "cells": [
  {
   "cell_type": "markdown",
   "metadata": {},
   "source": [
    "## Problem 2\n",
    "\n",
    "This is the code I used for my computation of the probability. get_prob() is a recursive function and seq_prob() is a wrapper function that makes recursive calls after calculating initializing the probability. More information about the implementation is in my write-up. "
   ]
  },
  {
   "cell_type": "code",
   "execution_count": 2,
   "metadata": {},
   "outputs": [
    {
     "name": "stdout",
     "output_type": "stream",
     "text": [
      "0.0031796718750000006\n"
     ]
    }
   ],
   "source": [
    "states = [[0.8, 0.2], [0.05, 0.95]]\n",
    "bases = { 'A': [0.2, 0.1],\n",
    "          'C': [0.5, 0.25],\n",
    "          'G': [0.1, 0.25],\n",
    "          'T': [0.2, 0.4]\n",
    "        }\n",
    "        \n",
    "p_actg = 0.0\n",
    "\n",
    "def seq_prob(seq): \n",
    "    # initial probability is 0.5\n",
    "    return 0.5 * bases[seq[0:1]][0] * get_prob(0, 0, seq[1:]) + \\\n",
    "           0.5 * bases[seq[0:1]][0] * get_prob(0, 1, seq[1:]) + \\\n",
    "           0.5 * bases[seq[0:1]][1] * get_prob(1, 1, seq[1:]) + \\\n",
    "           0.5 * bases[seq[0:1]][1] * get_prob(1, 0, seq[1:])\n",
    "           \n",
    "def get_prob(prevstate, currstate, seq): \n",
    "    # base case: one base left\n",
    "    if len(seq) == 1:\n",
    "        # return probability of last base\n",
    "        return states[prevstate][currstate] * bases[seq][currstate]\n",
    "    else: \n",
    "        curr_base = seq[0:1]\n",
    "        # obtain the probabilities and multiply by recursive call on the smaller case (shave down base)\n",
    "        return (states[prevstate][currstate] * bases[curr_base][currstate]) * (get_prob(currstate, 0, seq[1:]) + get_prob(currstate, 1, seq[1:]))\n",
    "        \n",
    "print(seq_prob(\"ACGT\"))\n"
   ]
  },
  {
   "cell_type": "markdown",
   "metadata": {},
   "source": [
    "## Problem 3\n",
    "\n",
    "I wrote some code to output the sequences as defined in the problem. prob_help() is a recursive function and probability_tree() is the wrapper function. The recursive function works by recursively traversing a HMM tree. "
   ]
  },
  {
   "cell_type": "code",
   "execution_count": 9,
   "metadata": {},
   "outputs": [
    {
     "name": "stdout",
     "output_type": "stream",
     "text": [
      "P_111\n",
      "init(A)*A_1*(AA*A_1*AA*A_1 + AA*A_1*AB*B_1 + AB*B_1*BA*A_1 + AB*B_1*BB*B_1) + init(B)*B_1*(BA*A_1*AA*A_1 + BA*A_1*AB*B_1 + BB*B_1*BA*A_1 + BB*B_1*BB*B_1) \n",
      "\n",
      "P_000\n",
      "init(A)*A_0*(AA*A_0*AA*A_0 + AA*A_0*AB*B_0 + AB*B_0*BA*A_0 + AB*B_0*BB*B_0) + init(B)*B_0*(BA*A_0*AA*A_0 + BA*A_0*AB*B_0 + BB*B_0*BA*A_0 + BB*B_0*BB*B_0) \n",
      "\n",
      "P_110\n",
      "init(A)*A_1*(AA*A_1*AA*A_0 + AA*A_1*AB*B_0 + AB*B_1*BA*A_0 + AB*B_1*BB*B_0) + init(B)*B_1*(BA*A_1*AA*A_0 + BA*A_1*AB*B_0 + BB*B_1*BA*A_0 + BB*B_1*BB*B_0) \n",
      "\n",
      "P_011\n",
      "init(A)*A_0*(AA*A_1*AA*A_1 + AA*A_1*AB*B_1 + AB*B_1*BA*A_1 + AB*B_1*BB*B_1) + init(B)*B_0*(BA*A_1*AA*A_1 + BA*A_1*AB*B_1 + BB*B_1*BA*A_1 + BB*B_1*BB*B_1) \n",
      "\n",
      "P_100\n",
      "init(A)*A_1*(AA*A_0*AA*A_0 + AA*A_0*AB*B_0 + AB*B_0*BA*A_0 + AB*B_0*BB*B_0) + init(B)*B_1*(BA*A_0*AA*A_0 + BA*A_0*AB*B_0 + BB*B_0*BA*A_0 + BB*B_0*BB*B_0) \n",
      "\n",
      "P_001\n",
      "init(A)*A_0*(AA*A_0*AA*A_1 + AA*A_0*AB*B_1 + AB*B_0*BA*A_1 + AB*B_0*BB*B_1) + init(B)*B_0*(BA*A_0*AA*A_1 + BA*A_0*AB*B_1 + BB*B_0*BA*A_1 + BB*B_0*BB*B_1) \n",
      "\n"
     ]
    }
   ],
   "source": [
    "import numpy as np\n",
    "from itertools import combinations\n",
    "\n",
    "# prints out expression of the probability given a sequence and labels\n",
    "def probability_tree(labels, sequence):\n",
    "    terms = []\n",
    "    # initialize with the initial probability (init())\n",
    "    for l in labels: \n",
    "        tmp = []\n",
    "        tmp.append(\"init({})*{}_{}\".format(l, l, sequence[0]))\n",
    "        terms.append(tmp.copy())\n",
    "    # branch out for recursion\n",
    "    for i in range(len(labels)): \n",
    "        for j in range(len(labels)):\n",
    "            prob_help(labels, terms[i], labels[i], labels[j], sequence[1:], '')\n",
    "    # basic string parsing \n",
    "    retstr = ''\n",
    "    for t in terms: \n",
    "        retstr += \"+ {}*(\".format(t[0])\n",
    "        for l in t[1:len(t)-1]: \n",
    "            retstr += l + \" + \"\n",
    "        retstr += t[len(t)-1] + \") \"\n",
    "    # prints out human friendly math\n",
    "    print(retstr[2:]+\"\\n\")\n",
    "    # returns a list of terms split into [['init(A)*...'], ['init(B)*...']]\n",
    "    # for later use\n",
    "    return terms\n",
    "\n",
    "def prob_help(labels, terms, prev_state, curr_state, seq, prob): \n",
    "    # last emission reached\n",
    "    if len(seq) == 1:\n",
    "        prob += \"*{}{}*{}_{}\".format(prev_state, curr_state, curr_state, seq)\n",
    "        # add the probability built up to this point to a list\n",
    "        terms.append(prob[1:])\n",
    "    else:\n",
    "        prob += \"*{}{}*{}_{}\".format(prev_state, curr_state, curr_state, seq[0])\n",
    "        # branch out into all possible states\n",
    "        for i in range(len(labels)): \n",
    "            # continue to build the probability until the last emission is reached\n",
    "            # shave down the sequence by one emission\n",
    "            prob_help(labels, terms, curr_state, labels[i], seq[1:], prob)\n",
    "        \n",
    "print(\"P_111\")\n",
    "t111 = probability_tree([\"A\", \"B\"], \"111\")\n",
    "print(\"P_000\")\n",
    "t000 = probability_tree([\"A\", \"B\"], \"000\")\n",
    "print(\"P_110\")\n",
    "t110 = probability_tree([\"A\", \"B\"], \"110\")\n",
    "print(\"P_011\")\n",
    "t011 = probability_tree([\"A\", \"B\"], \"011\")\n",
    "print(\"P_100\")\n",
    "t100 = probability_tree([\"A\", \"B\"], \"100\")\n",
    "print(\"P_001\")\n",
    "t001 = probability_tree([\"A\", \"B\"], \"001\")"
   ]
  },
  {
   "cell_type": "markdown",
   "metadata": {},
   "source": [
    "**After** obtaining these terms, I wrote some loops and parsing to obtain the possibilities that P_111 and P_000 are both equal to 0, in the case that init(A) and init(B) are positive. \n",
    "\n",
    "### Case 3: initial probabilities are both non-zero "
   ]
  },
  {
   "cell_type": "code",
   "execution_count": 8,
   "metadata": {},
   "outputs": [
    {
     "name": "stdout",
     "output_type": "stream",
     "text": [
      "[('AA', 'AB', 'BB'), ('AA', 'B_0', 'B_1'), ('BB', 'A_0', 'A_1'), ('AA', 'BA', 'BB')]\n"
     ]
    }
   ],
   "source": [
    "# All possible terms\n",
    "p = [\"AA\", \"AB\", \"BA\", \"BB\", \"A_0\", \"A_1\", \"B_0\", \"B_1\"]\n",
    "# All combinations max length 3\n",
    "# if there are more than 3 terms that need to become 0 for the equation to be true, then\n",
    "# the matrices derived are already invalid (either 3 zeroes in one matrix or 2 zeroes in\n",
    "# each matrix)\n",
    "comb = [list(combinations(p, i)) for i in range(4)]\n",
    "# Combinations that make P000 = 0\n",
    "zero_combs000 = []\n",
    "# ... that make P111 = 0\n",
    "zero_combs111 = []\n",
    "# iterate through combinations\n",
    "for c in comb: \n",
    "    for i in c: \n",
    "        # loop through p000 \n",
    "        tmp = [j for i in t000 for j in i]\n",
    "        # removes the init term\n",
    "        tmp = [e for e in tmp if \"init\" not in e]\n",
    "        for t in range(len(tmp)): \n",
    "            # if the term is in the combination and the term, set it to 0\n",
    "            if tmp[t] != 0 and any(s in tmp[t] for s in i): \n",
    "                tmp[t] = 0\n",
    "            # see if the sum of terms is 0\n",
    "            if np.array_equal(np.asarray(tmp), np.zeros((1, len(tmp)))[0]): \n",
    "                zero_combs000.append(i)\n",
    "        # loop through p111\n",
    "        tmp = [j for i in t111 for j in i]\n",
    "        # removes the init term\n",
    "        tmp = [e for e in tmp if \"init\" not in e]\n",
    "        for t in range(len(tmp)): \n",
    "            # if the term is in the combination and the term, set it to 0\n",
    "            if tmp[t] != 0 and any(s in tmp[t] for s in i): \n",
    "                tmp[t] = 0\n",
    "            # see if the sum of terms is 0\n",
    "            if np.array_equal(np.asarray(tmp), np.zeros((1, len(tmp)))[0]): \n",
    "                zero_combs111.append(i)\n",
    "        \n",
    "# obtains the intersection of combinations where P_111 = 0 and P_000 = 0.\n",
    "print([i for i in list(set(zero_combs000) & set(zero_combs111))])"
   ]
  },
  {
   "cell_type": "markdown",
   "metadata": {},
   "source": [
    "As described in my write-up, none of these combinations are valid transition or emission matrices. Thus, there are no good values of substitution to make P_000 = P_111 = 0 when both initial probabilities are non-zero. "
   ]
  },
  {
   "cell_type": "markdown",
   "metadata": {},
   "source": [
    "## Problem 4: Viterbi's Algorithm\n",
    "\n",
    "This is my implementation of Viterbi's. "
   ]
  },
  {
   "cell_type": "code",
   "execution_count": 5,
   "metadata": {},
   "outputs": [],
   "source": [
    "def viterbi(seq, transition, emission, initial, labels):\n",
    "    # converts sequence to an array\n",
    "    seq = np.array([int(i) for i in seq])\n",
    "    # number of distinct states\n",
    "    n_states = len(labels)\n",
    "    # length of sequence (n value)\n",
    "    N = len(seq)\n",
    "    # Matrix that contains the max probability of reaching each state\n",
    "    max_probs = np.zeros((n_states, N + 1))\n",
    "    max_probs[:,0] += initial * emission[:, seq[0]]\n",
    "    # max_probs[initial, 0] = 1\n",
    "    # Matrix that contains the previous state which corresponds \n",
    "    # to the maximum probability of reaching the current state\n",
    "    max_state_combs = np.zeros((n_states, N + 1), dtype='int')\n",
    "    for i in range(1, N + 1):\n",
    "        for j in range(n_states):\n",
    "            # obtain probability from the maximal jump (transition)\n",
    "            max_probs[j, i] = np.max(max_probs[:, i - 1] * transition[:, j])\n",
    "            # Store this jump for later reference\n",
    "            max_state_combs[j, i] = np.argmax(max_probs[:, i - 1] * transition[:, j])\n",
    "            # multiply with probability of current state (emission)\n",
    "            max_probs[j, i] *= emission[j, seq[i - 1]]\n",
    "    # obtain the maximal state sequence\n",
    "    max_states = np.zeros(N + 1, dtype='int')\n",
    "    max_states[N] = np.argmax(max_probs[:, N])\n",
    "    # tracing backwards for the desired sequence \n",
    "    for n in range(N, 1, -1):\n",
    "        max_states[n - 1] = max_state_combs[max_states[n], n - 1]\n",
    "    retstr = ''\n",
    "    for s in max_states[1:]: \n",
    "        retstr += labels[s]\n",
    "    return retstr"
   ]
  },
  {
   "cell_type": "markdown",
   "metadata": {},
   "source": [
    "The function above is coded according to what was taught by Professor Pachter in class. There is an initial probability of 0.5, so the first column is initialized as such. Then, there are nested for loops which go through the matrix of n_states x len(sequence). The max probability at each cell is kept track of, and a separate matrix is used to keep track of where the jumps of max probability originated from, so that we can backtrack later and find the maximal state sequence. "
   ]
  },
  {
   "cell_type": "code",
   "execution_count": 6,
   "metadata": {},
   "outputs": [
    {
     "name": "stdout",
     "output_type": "stream",
     "text": [
      "ABBBBBBBBBBBBBBBBBBBBBBBBBBBBBBBBBBBBBBBBBBBBBBBBBBBBBBBBBBBBBBBBBBBBBBBBBBBBBBBBBBBBBBBBBBBBBBBBBBB\n"
     ]
    }
   ],
   "source": [
    "transition = np.array([\n",
    "    [0.1, 0.9],\n",
    "    [0.1, 0.9]\n",
    "])\n",
    "emission = np.array([\n",
    "    [0.1, 0.9],\n",
    "    [0.1, 0.9]\n",
    "])\n",
    "\n",
    "seq = \"0100010010111100111111111000000000011001000010111111111110011111111111110111111010010100001000000000\"\n",
    "initial = [0.5, 0.5]\n",
    "names = ['A', 'B']\n",
    "print(viterbi(seq, transition, emission, initial, names))"
   ]
  },
  {
   "cell_type": "markdown",
   "metadata": {},
   "source": [
    "I used two forms of verification for my code. First, the transition and emission matrix are written in a way that the outputted state sequence makes sense, since the probability of B -> B is very high. Additionally, I verified this sequence using the HMM class provided, which also outputted the state sequence shown above when given the transition and emission matrices, along with the 100 base sequence and the state names. "
   ]
  },
  {
   "cell_type": "code",
   "execution_count": null,
   "metadata": {},
   "outputs": [],
   "source": []
  }
 ],
 "metadata": {
  "kernelspec": {
   "display_name": "Python 3",
   "language": "python",
   "name": "python3"
  },
  "language_info": {
   "codemirror_mode": {
    "name": "ipython",
    "version": 3
   },
   "file_extension": ".py",
   "mimetype": "text/x-python",
   "name": "python",
   "nbconvert_exporter": "python",
   "pygments_lexer": "ipython3",
   "version": "3.7.4"
  }
 },
 "nbformat": 4,
 "nbformat_minor": 2
}
