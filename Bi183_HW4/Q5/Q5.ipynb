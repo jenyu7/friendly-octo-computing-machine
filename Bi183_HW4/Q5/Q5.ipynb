{
 "cells": [
  {
   "cell_type": "markdown",
   "metadata": {},
   "source": [
    "### Untar the fastq files"
   ]
  },
  {
   "cell_type": "code",
   "execution_count": 2,
   "metadata": {},
   "outputs": [
    {
     "name": "stderr",
     "output_type": "stream",
     "text": [
      "x fastqs/\n",
      "x fastqs/hgmm_1k_S1_L001_I1_001.fastq.gz\n",
      "x fastqs/hgmm_1k_S1_L001_R1_001.fastq.gz\n",
      "x fastqs/hgmm_1k_S1_L001_R2_001.fastq.gz\n",
      "x fastqs/hgmm_1k_S1_L002_I1_001.fastq.gz\n",
      "x fastqs/hgmm_1k_S1_L002_R1_001.fastq.gz\n",
      "x fastqs/hgmm_1k_S1_L002_R2_001.fastq.gz\n",
      "x fastqs/hgmm_1k_S1_L003_I1_001.fastq.gz\n",
      "x fastqs/hgmm_1k_S1_L003_R1_001.fastq.gz\n",
      "x fastqs/hgmm_1k_S1_L003_R2_001.fastq.gz\n",
      "x fastqs/hgmm_1k_S1_L004_I1_001.fastq.gz\n",
      "x fastqs/hgmm_1k_S1_L004_R1_001.fastq.gz\n",
      "x fastqs/hgmm_1k_S1_L004_R2_001.fastq.gz\n",
      "x fastqs/hgmm_1k_S1_L005_I1_001.fastq.gz\n",
      "x fastqs/hgmm_1k_S1_L005_R1_001.fastq.gz\n",
      "x fastqs/hgmm_1k_S1_L005_R2_001.fastq.gz\n",
      "x fastqs/hgmm_1k_S1_L006_I1_001.fastq.gz\n",
      "x fastqs/hgmm_1k_S1_L006_R1_001.fastq.gz\n",
      "x fastqs/hgmm_1k_S1_L006_R2_001.fastq.gz\n",
      "x fastqs/hgmm_1k_S1_L007_I1_001.fastq.gz\n",
      "x fastqs/hgmm_1k_S1_L007_R1_001.fastq.gz\n",
      "x fastqs/hgmm_1k_S1_L007_R2_001.fastq.gz\n",
      "x fastqs/hgmm_1k_S1_L008_I1_001.fastq.gz\n",
      "x fastqs/hgmm_1k_S1_L008_R1_001.fastq.gz\n",
      "x fastqs/hgmm_1k_S1_L008_R2_001.fastq.gz\n"
     ]
    }
   ],
   "source": [
    "!tar -xvf ./hgmm_1k_fastqs.tar"
   ]
  },
  {
   "cell_type": "markdown",
   "metadata": {},
   "source": [
    "### Kallisto index and transcript.tsv are already provided, so we will use kallisto bus"
   ]
  },
  {
   "cell_type": "code",
   "execution_count": 48,
   "metadata": {},
   "outputs": [
    {
     "name": "stdout",
     "output_type": "stream",
     "text": [
      "508874 472354\n"
     ]
    }
   ],
   "source": [
    "import random\n",
    "c = list(range(52))\n",
    "alex = 0\n",
    "blair = 0\n",
    "for i in range(1000000):\n",
    "    r1 = random.randint(0, 52)\n",
    "    r2 = random.randint(0, 52)\n",
    "    while (r2 == r1):\n",
    "        r2 = random.randint(0, 52)\n",
    "    r3 = random.randint(0, 52)\n",
    "    while r3 == r1 or r3 == r2:\n",
    "        r3 = random.randint(0, 52)\n",
    "    r4 = random.randint(0, 52)\n",
    "    while r4 == r1 or r4 == r3 or r4 == r2:\n",
    "        r4 = random.randint(0, 52)\n",
    "    c1 = random.choice([r1, r2, r3, r4])\n",
    "    c2 = random.choice([r1, r2, r3, r4])\n",
    "    while c2 == c1:\n",
    "        c2 = random.choice([r1, r2, r3, r4])\n",
    "    #print([r1, r2, r3, r4])\n",
    "    a = min(c1, c2)\n",
    "    b = max(c1, c2)\n",
    "    if a < b-a: \n",
    "        alex += 1\n",
    "    elif a > b - a:\n",
    "        blair +=1\n",
    "       \n",
    "\n",
    "print(alex, blair)\n"
   ]
  },
  {
   "cell_type": "code",
   "execution_count": 28,
   "metadata": {},
   "outputs": [
    {
     "data": {
      "text/plain": [
       "[('R1', 'R2', 'B1', 'B2'),\n",
       " ('R1', 'R2', 'B2', 'B1'),\n",
       " ('R1', 'B1', 'R2', 'B2'),\n",
       " ('R1', 'B1', 'B2', 'R2'),\n",
       " ('R1', 'B2', 'R2', 'B1'),\n",
       " ('R1', 'B2', 'B1', 'R2'),\n",
       " ('R2', 'R1', 'B1', 'B2'),\n",
       " ('R2', 'R1', 'B2', 'B1'),\n",
       " ('R2', 'B1', 'R1', 'B2'),\n",
       " ('R2', 'B1', 'B2', 'R1'),\n",
       " ('R2', 'B2', 'R1', 'B1'),\n",
       " ('R2', 'B2', 'B1', 'R1'),\n",
       " ('B1', 'R1', 'R2', 'B2'),\n",
       " ('B1', 'R1', 'B2', 'R2'),\n",
       " ('B1', 'R2', 'R1', 'B2'),\n",
       " ('B1', 'R2', 'B2', 'R1'),\n",
       " ('B1', 'B2', 'R1', 'R2'),\n",
       " ('B1', 'B2', 'R2', 'R1'),\n",
       " ('B2', 'R1', 'R2', 'B1'),\n",
       " ('B2', 'R1', 'B1', 'R2'),\n",
       " ('B2', 'R2', 'R1', 'B1'),\n",
       " ('B2', 'R2', 'B1', 'R1'),\n",
       " ('B2', 'B1', 'R1', 'R2'),\n",
       " ('B2', 'B1', 'R2', 'R1')]"
      ]
     },
     "execution_count": 28,
     "metadata": {},
     "output_type": "execute_result"
    }
   ],
   "source": [
    "import itertools\n",
    "list(itertools.permutations([\"R1\", \"R2\", \"B1\", \"B2\"]))"
   ]
  },
  {
   "cell_type": "code",
   "execution_count": null,
   "metadata": {},
   "outputs": [],
   "source": []
  }
 ],
 "metadata": {
  "kernelspec": {
   "display_name": "Python 3",
   "language": "python",
   "name": "python3"
  },
  "language_info": {
   "codemirror_mode": {
    "name": "ipython",
    "version": 3
   },
   "file_extension": ".py",
   "mimetype": "text/x-python",
   "name": "python",
   "nbconvert_exporter": "python",
   "pygments_lexer": "ipython3",
   "version": "3.7.4"
  }
 },
 "nbformat": 4,
 "nbformat_minor": 2
}
