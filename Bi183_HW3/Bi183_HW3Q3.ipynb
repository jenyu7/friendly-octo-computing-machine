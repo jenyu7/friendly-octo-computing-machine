{
 "cells": [
  {
   "cell_type": "markdown",
   "metadata": {},
   "source": [
    "## Problem 3\n",
    "Implementing MDS for n_components = 1. Comparing the distances between the built in PCA and the implemented MDS, they both match. "
   ]
  },
  {
   "cell_type": "code",
   "execution_count": 185,
   "metadata": {},
   "outputs": [
    {
     "name": "stdout",
     "output_type": "stream",
     "text": [
      "[[0.49806073 0.86714215]]\n",
      "[[-2.15231099 -0.65812881  2.8104398 ]]\n"
     ]
    }
   ],
   "source": [
    "import math\n",
    "import matplotlib.pyplot as plt\n",
    "from sklearn.decomposition import PCA\n",
    "x = [[0,0],\n",
    "    [3, 0],\n",
    "    [3,4]]\n",
    "distances = [\n",
    "    [0, 3, 5],\n",
    "    [3, 0, 4],\n",
    "    [5, 4, 0]\n",
    "]\n",
    "pca = PCA(n_components=1)\n",
    "norm_x = x - np.mean(x, 0)\n",
    "pca_components = pca.fit(norm_x)\n",
    "vec = pca.components_\n",
    "print(vec)\n",
    "dist = np.dot(norm_x, vec.T).transpose()\n",
    "# Compare distances to implemented MDS below\n",
    "print(dist)"
   ]
  },
  {
   "cell_type": "code",
   "execution_count": 158,
   "metadata": {},
   "outputs": [
    {
     "name": "stdout",
     "output_type": "stream",
     "text": [
      "[[-2.15231099 -0.65812881  2.8104398 ]]\n"
     ]
    }
   ],
   "source": [
    "import numpy as np\n",
    " \n",
    "def mds(D):                                                                       \n",
    "    n = len(D)\n",
    "    # centers matrix                                                                       \n",
    "    H = np.eye(n) - np.ones((n, n))/n\n",
    "    # YY^T, squared distances                                                                                    \n",
    "    B = -H.dot(np.square(D)).dot(H)/2\n",
    "    # Diagonalize                                                                             \n",
    "    evals, evecs = np.linalg.eig(B)\n",
    "    # find largest eigenvalue (abs val)\n",
    "    m = -1000000\n",
    "    ind = 0\n",
    "    for i in range(len(evals)):\n",
    "        if abs(evals[i]) > 0.001:\n",
    "            if abs(evals[i]) > m: \n",
    "                m = abs(evals[i])\n",
    "                ind = i\n",
    "    # obtain the largest eigenvalue & corresponding eigenvector\n",
    "    # note: this is for n_components = 1\n",
    "    evals = m\n",
    "    evecs = evecs[:,ind]\n",
    "    \n",
    "    return evecs, evals\n",
    "    \n",
    "evecs, evals = mds(np.matrix(distances))\n",
    "mds_res = evecs.transpose() * np.sqrt(evals)\n",
    "# same distances as built in PCA above. \n",
    "print(mds_res)"
   ]
  }
 ],
 "metadata": {
  "kernelspec": {
   "display_name": "Python 3",
   "language": "python",
   "name": "python3"
  },
  "language_info": {
   "codemirror_mode": {
    "name": "ipython",
    "version": 3
   },
   "file_extension": ".py",
   "mimetype": "text/x-python",
   "name": "python",
   "nbconvert_exporter": "python",
   "pygments_lexer": "ipython3",
   "version": "3.7.4"
  }
 },
 "nbformat": 4,
 "nbformat_minor": 2
}
